{
  "metadata": {
    "kernelspec": {
      "language": "python",
      "display_name": "Python 3",
      "name": "python3"
    },
    "language_info": {
      "name": "python",
      "version": "3.10.12",
      "mimetype": "text/x-python",
      "codemirror_mode": {
        "name": "ipython",
        "version": 3
      },
      "pygments_lexer": "ipython3",
      "nbconvert_exporter": "python",
      "file_extension": ".py"
    },
    "kaggle": {
      "accelerator": "none",
      "dataSources": [
        {
          "sourceId": 9559728,
          "sourceType": "datasetVersion",
          "datasetId": 5825454
        }
      ],
      "dockerImageVersionId": 30918,
      "isInternetEnabled": true,
      "language": "python",
      "sourceType": "notebook",
      "isGpuEnabled": false
    },
    "colab": {
      "name": "IAD_2_Classification",
      "provenance": []
    }
  },
  "nbformat_minor": 0,
  "nbformat": 4,
  "cells": [
    {
      "source": [
        "# IMPORTANT: RUN THIS CELL IN ORDER TO IMPORT YOUR KAGGLE DATA SOURCES,\n",
        "# THEN FEEL FREE TO DELETE THIS CELL.\n",
        "# NOTE: THIS NOTEBOOK ENVIRONMENT DIFFERS FROM KAGGLE'S PYTHON\n",
        "# ENVIRONMENT SO THERE MAY BE MISSING LIBRARIES USED BY YOUR\n",
        "# NOTEBOOK.\n",
        "import kagglehub\n",
        "valakhorasani_gym_members_exercise_dataset_path = kagglehub.dataset_download('valakhorasani/gym-members-exercise-dataset')\n",
        "\n",
        "print('Data source import complete.')\n"
      ],
      "metadata": {
        "id": "jD8qp0kdpAGI"
      },
      "cell_type": "code",
      "outputs": [],
      "execution_count": null
    },
    {
      "cell_type": "markdown",
      "source": [
        "# Задача классификации"
      ],
      "metadata": {
        "id": "Cwjer_B9pAGP"
      }
    },
    {
      "cell_type": "markdown",
      "source": [
        "1. Байесовская классификация.\n",
        "2. Деревья решений."
      ],
      "metadata": {
        "id": "jAu4NmGYpAGT"
      }
    },
    {
      "cell_type": "markdown",
      "source": [
        "## Импорт библиотек"
      ],
      "metadata": {
        "id": "JymzLBZFpAGU"
      }
    },
    {
      "cell_type": "code",
      "source": [
        "import numpy as np # linear algebra\n",
        "import pandas as pd # data processing, CSV file I/O (e.g. pd.read_csv)\n",
        "\n",
        "#для разбиения данных на тренировочную и тестовую выборки\n",
        "from sklearn.model_selection import train_test_split\n",
        "\n",
        "from sklearn.naive_bayes import GaussianNB #вероятностная модель классификатора на основе теоремы Байеса\n",
        "from sklearn.tree import DecisionTreeClassifier, export_graphviz #модель деревьев решений с визуализацией\n",
        "from sklearn.ensemble import BaggingClassifier #модель беггинга\n",
        "from sklearn.ensemble import RandomForestClassifier #библиотека построения классификатора случайного леса\n",
        "from sklearn.ensemble import GradientBoostingClassifier #библиотека построения классификатора через градиентный бустинг\n",
        "\n",
        "from sklearn.metrics import accuracy_score, precision_score, recall_score, f1_score #показатели качества модели\n",
        "from sklearn.metrics import confusion_matrix #для построения матрицы ошибок\n",
        "\n",
        "#библиотеки для визуализации графиков\n",
        "import matplotlib.pyplot as plt\n",
        "import seaborn as sns\n",
        "import graphviz\n",
        "from IPython.display import display\n",
        "\n",
        "#игнорирование предупреждений\n",
        "import warnings"
      ],
      "metadata": {
        "trusted": true,
        "execution": {
          "iopub.status.busy": "2025-03-12T08:50:49.077799Z",
          "iopub.execute_input": "2025-03-12T08:50:49.078171Z",
          "iopub.status.idle": "2025-03-12T08:50:49.084094Z",
          "shell.execute_reply.started": "2025-03-12T08:50:49.078139Z",
          "shell.execute_reply": "2025-03-12T08:50:49.082813Z"
        },
        "id": "NwZ0p6XdpAGU"
      },
      "outputs": [],
      "execution_count": null
    },
    {
      "cell_type": "markdown",
      "source": [
        "## Набор данных"
      ],
      "metadata": {
        "id": "axO7guyNpAGV"
      }
    },
    {
      "cell_type": "markdown",
      "source": [
        "Исходный набор данных: [Gym Members Exercise Dataset](https://www.kaggle.com/datasets/valakhorasani/gym-members-exercise-dataset)\n",
        "\n",
        "Данные хранятся в csv файле.\n",
        "\n",
        "Объем данных: 973 записи о физических зарактеристиках и данных о тренировках.\n",
        "\n",
        "Для решения задачи классификации за целевую переменную выбран признак Пол (Gender). Он принимает одно из двух значений: Male и Female."
      ],
      "metadata": {
        "id": "9SqnyL0XpAGW"
      }
    },
    {
      "cell_type": "code",
      "source": [
        "import os\n",
        "for dirname, _, filenames in os.walk('/kaggle/input'):\n",
        "    for filename in filenames:\n",
        "        print(os.path.join(dirname, filename))"
      ],
      "metadata": {
        "_uuid": "8f2839f25d086af736a60e9eeb907d3b93b6e0e5",
        "_cell_guid": "b1076dfc-b9ad-4769-8c92-a6c4dae69d19",
        "trusted": true,
        "execution": {
          "iopub.status.busy": "2025-03-12T08:50:49.094406Z",
          "iopub.execute_input": "2025-03-12T08:50:49.094815Z",
          "iopub.status.idle": "2025-03-12T08:50:49.111748Z",
          "shell.execute_reply.started": "2025-03-12T08:50:49.094768Z",
          "shell.execute_reply": "2025-03-12T08:50:49.110625Z"
        },
        "id": "211m9HIrpAGW"
      },
      "outputs": [],
      "execution_count": null
    },
    {
      "cell_type": "code",
      "source": [
        "df = pd.read_csv('/kaggle/input/gym-members-exercise-dataset/gym_members_exercise_tracking.csv')\n",
        "df.head()"
      ],
      "metadata": {
        "trusted": true,
        "execution": {
          "iopub.status.busy": "2025-03-12T08:50:49.11319Z",
          "iopub.execute_input": "2025-03-12T08:50:49.113462Z",
          "iopub.status.idle": "2025-03-12T08:50:49.138497Z",
          "shell.execute_reply.started": "2025-03-12T08:50:49.113436Z",
          "shell.execute_reply": "2025-03-12T08:50:49.137474Z"
        },
        "id": "26yuFVHCpAGX"
      },
      "outputs": [],
      "execution_count": null
    },
    {
      "cell_type": "code",
      "source": [
        "df.info()"
      ],
      "metadata": {
        "trusted": true,
        "execution": {
          "iopub.status.busy": "2025-03-12T08:50:49.139968Z",
          "iopub.execute_input": "2025-03-12T08:50:49.140336Z",
          "iopub.status.idle": "2025-03-12T08:50:49.151219Z",
          "shell.execute_reply.started": "2025-03-12T08:50:49.140301Z",
          "shell.execute_reply": "2025-03-12T08:50:49.150244Z"
        },
        "id": "um2CKU-7pAGY"
      },
      "outputs": [],
      "execution_count": null
    },
    {
      "cell_type": "markdown",
      "source": [
        "Для удобства обучения модели, перекодируем признак Gender в числовой формат:\n",
        "- 0 = Male\n",
        "- 1 = Female.\n",
        "  \n",
        "Аналогичным образом перекодируем признак Workout_Type."
      ],
      "metadata": {
        "id": "pASmVDl0pAGY"
      }
    },
    {
      "cell_type": "code",
      "source": [
        "# признак Gender\n",
        "df['NumGender'] = df['Gender'].map({'Male': 0, 'Female': 1})\n",
        "\n",
        "# признак Workout_Type\n",
        "workout_type_mapping = {value: idx for idx, value in enumerate(df['Workout_Type'].unique())}\n",
        "print(\"Словарь для перекодирования Workout_Type:\", workout_type_mapping)\n",
        "df['Workout_Type_Num'] = df['Workout_Type'].map(workout_type_mapping)"
      ],
      "metadata": {
        "trusted": true,
        "execution": {
          "iopub.status.busy": "2025-03-12T08:50:49.152602Z",
          "iopub.execute_input": "2025-03-12T08:50:49.152875Z",
          "iopub.status.idle": "2025-03-12T08:50:49.172065Z",
          "shell.execute_reply.started": "2025-03-12T08:50:49.15285Z",
          "shell.execute_reply": "2025-03-12T08:50:49.171136Z"
        },
        "id": "uLcl8-LtpAGZ"
      },
      "outputs": [],
      "execution_count": null
    },
    {
      "cell_type": "code",
      "source": [
        "dfCurrent = df.drop(['Gender', 'Workout_Type'], axis=1)"
      ],
      "metadata": {
        "trusted": true,
        "execution": {
          "iopub.status.busy": "2025-03-12T08:50:49.173674Z",
          "iopub.execute_input": "2025-03-12T08:50:49.174043Z",
          "iopub.status.idle": "2025-03-12T08:50:49.195177Z",
          "shell.execute_reply.started": "2025-03-12T08:50:49.174008Z",
          "shell.execute_reply": "2025-03-12T08:50:49.194191Z"
        },
        "id": "4HPnM7aXpAGZ"
      },
      "outputs": [],
      "execution_count": null
    },
    {
      "cell_type": "code",
      "source": [
        "dfCurrent.info()"
      ],
      "metadata": {
        "trusted": true,
        "execution": {
          "iopub.status.busy": "2025-03-12T08:50:49.196906Z",
          "iopub.execute_input": "2025-03-12T08:50:49.197301Z",
          "iopub.status.idle": "2025-03-12T08:50:49.220692Z",
          "shell.execute_reply.started": "2025-03-12T08:50:49.197249Z",
          "shell.execute_reply": "2025-03-12T08:50:49.219464Z"
        },
        "id": "23MtwKFYpAGa"
      },
      "outputs": [],
      "execution_count": null
    },
    {
      "cell_type": "markdown",
      "source": [
        "## Байесовская классификация"
      ],
      "metadata": {
        "id": "l9dMGATppAGa"
      }
    },
    {
      "cell_type": "markdown",
      "source": [
        "1. Выполните классификацию набора данных с помощью Байесовской классификации, варьируя соотношение мощностей обучающей и тестовой выборок от 60%:40% до 90%:10% с шагом 5%.\n",
        "2. Вычислите показатели качества классификации: аккуратность (accuracy), точность (precision), полнота (recall), F-мера. Выполните визуализацию полученных результатов в виде диаграмм.\n",
        "3. Подготовьте отчет о выполнении задания и загрузите отчет в формате PDF в систему. Отчет должен представлять собой связный и структурированный документ со следующими разделами:\n",
        "    - формулировка задания;\n",
        "    - гиперссылка на каталог репозитория с исходными текстами, набором данных и др. сопутствующими материалами;\n",
        "    - рисунки с результатами визуализации;\n",
        "    - пояснения, раскрывающие смысл полученных результатов."
      ],
      "metadata": {
        "id": "cuP7q-LbpAGa"
      }
    },
    {
      "cell_type": "markdown",
      "source": [
        "###  Классификация и вычисление метрик"
      ],
      "metadata": {
        "id": "leFbR-ZjpAGb"
      }
    },
    {
      "cell_type": "markdown",
      "source": [
        "Байесовска классификация основана на теореме Байеса:. Она позволяет предсказать вероятность принадлежности объекта к классу. [GaussianNB](https://scikit-learn.ru/stable/modules/naive_bayes.html) из scikit-learn реализует наивный Баейсовский классификатор, предполагая, что признаки являются независимыми, и используя нормальное распределение Гаусса для моделирования вероятностей.\n",
        "\n",
        "Обучение модели: рассчитать априорные вероятности каждого класса как отношение количества наблюдений определенного класса к общему числу наблюдений. Далее для предсказания вычисляется вероятность по формуле нормального распределения, после чего происходит расчет апостериорной вероятности. Затем выбирается результат, для которого эта вероятность будет максимальна."
      ],
      "metadata": {
        "id": "_3yz4ytPpAGb"
      }
    },
    {
      "cell_type": "markdown",
      "source": [
        "Параметры модели.\n",
        "1. class_prior_: показывают априорные вероятности для каждого класса (Male и Female) до учета данных, насколько сбалансированы в обучающей выборке классы.\n",
        "2. class_count_: количество образцов в каждом классе после разбиения данных (сбалансированность разбиения).\n",
        "3. theta_: средние значения всех признаков для кжадого класса.\n",
        "4. var_: дисперсия, показывающая степень разброса значений признаков вокруг среднего значения (для каждого класса).\n",
        "5. epsilon_: добавочное значение дисперсии в случае малых исходных значений."
      ],
      "metadata": {
        "id": "-IQqQHPNpAGb"
      }
    },
    {
      "cell_type": "markdown",
      "source": [
        "Метрики модели.\n",
        "1. Accuracy (точность): доля правильных предсказаний среди общего числа предсказаний.\n",
        "2. Precision (точность предсказания): доля верно-положтельных предсказаний среди всех положительных (стремится к минимизации количества ложно-положительных предсказаний).\n",
        "3. Recall (полнота): доля верно-положительных предсказаний среди всех верно-положительных.\n",
        "4. F1-Score: гармоническое среднее между Precision и Recall."
      ],
      "metadata": {
        "id": "GxsV8HT9pAGc"
      }
    },
    {
      "cell_type": "code",
      "source": [
        "# Функция для выполнения классификации и вычисления метрик\n",
        "# входные данные: признаки модели, целевая переменная, доля тестовой выборки\n",
        "# выходные данные: аккуратность (accuracy), точность (precision), полнота (recall), F-мера обученной модели.\n",
        "\n",
        "def classify_and_evaluate(X, y, test_size):\n",
        "    # деление данных на обучающую и тестовую выборки\n",
        "    X_train, X_test, y_train, y_test = train_test_split(X, y, test_size=test_size, random_state=42)\n",
        "\n",
        "    # обучение Байесовского классификатора\n",
        "    model = GaussianNB()\n",
        "    model.fit(X_train, y_train)\n",
        "\n",
        "    # параметры модели\n",
        "    print(\"Модель с объемом тестовой выборки:\", test_size)\n",
        "    print(\"Априорные вероятности классов:\", model.class_prior_)\n",
        "    print(\"Количество образцов в каждом классе:\", model.class_count_)\n",
        "    print(\"Средние значения признаков для каждого класса:\", model.theta_)\n",
        "    print(\"Дисперсии признаков для каждого класса:\", model.var_)\n",
        "    print(\"Добавка к дисперсии для численной стабильности:\", model.epsilon_)\n",
        "    print(\"\\n\\n\")\n",
        "\n",
        "    # предсказание на тестовой\n",
        "    y_pred = model.predict(X_test)\n",
        "\n",
        "    # метрики\n",
        "    accuracy = accuracy_score(y_test, y_pred)\n",
        "    precision = precision_score(y_test, y_pred)\n",
        "    recall = recall_score(y_test, y_pred)\n",
        "    f1 = f1_score(y_test, y_pred)\n",
        "\n",
        "    return accuracy, precision, recall, f1"
      ],
      "metadata": {
        "trusted": true,
        "execution": {
          "iopub.status.busy": "2025-03-12T08:50:49.221675Z",
          "iopub.execute_input": "2025-03-12T08:50:49.222019Z",
          "iopub.status.idle": "2025-03-12T08:50:49.238883Z",
          "shell.execute_reply.started": "2025-03-12T08:50:49.221976Z",
          "shell.execute_reply": "2025-03-12T08:50:49.23781Z"
        },
        "id": "pYzIbGk1pAGc"
      },
      "outputs": [],
      "execution_count": null
    },
    {
      "cell_type": "code",
      "source": [
        "results = {\n",
        "    'Test_Size': [],\n",
        "    'Accuracy': [],\n",
        "    'Precision': [],\n",
        "    'Recall': [],\n",
        "    'F1-Score': []\n",
        "}\n",
        "# соотношение мощностей обучающей и тестовой выборок от 60%:40% до 90%:10% с шагом 5%\n",
        "test_sizes = np.arange(0.4, 0.10, -0.05).tolist()"
      ],
      "metadata": {
        "trusted": true,
        "execution": {
          "iopub.status.busy": "2025-03-12T08:50:49.24073Z",
          "iopub.execute_input": "2025-03-12T08:50:49.24104Z",
          "iopub.status.idle": "2025-03-12T08:50:49.262797Z",
          "shell.execute_reply.started": "2025-03-12T08:50:49.241011Z",
          "shell.execute_reply": "2025-03-12T08:50:49.261755Z"
        },
        "id": "LM3G5WT9pAGc"
      },
      "outputs": [],
      "execution_count": null
    },
    {
      "cell_type": "code",
      "source": [
        "# Разделение данных на признаки и целевую переменную\n",
        "X = dfCurrent.drop('NumGender', axis=1)\n",
        "y = dfCurrent['NumGender']"
      ],
      "metadata": {
        "trusted": true,
        "execution": {
          "iopub.status.busy": "2025-03-12T08:50:49.264328Z",
          "iopub.execute_input": "2025-03-12T08:50:49.264685Z",
          "iopub.status.idle": "2025-03-12T08:50:49.284438Z",
          "shell.execute_reply.started": "2025-03-12T08:50:49.264655Z",
          "shell.execute_reply": "2025-03-12T08:50:49.283442Z"
        },
        "id": "0gSz0kW0pAGd"
      },
      "outputs": [],
      "execution_count": null
    },
    {
      "cell_type": "code",
      "source": [
        "# Выполнение классификации и оценка метрик для каждого соотношения выборок\n",
        "for test_size in test_sizes:\n",
        "    accuracy, precision, recall, f1 = classify_and_evaluate(X, y, test_size)\n",
        "    results['Test_Size'].append(test_size)\n",
        "    results['Accuracy'].append(accuracy)\n",
        "    results['Precision'].append(precision)\n",
        "    results['Recall'].append(recall)\n",
        "    results['F1-Score'].append(f1)"
      ],
      "metadata": {
        "trusted": true,
        "execution": {
          "iopub.status.busy": "2025-03-12T08:50:49.285611Z",
          "iopub.execute_input": "2025-03-12T08:50:49.285948Z",
          "iopub.status.idle": "2025-03-12T08:50:49.408045Z",
          "shell.execute_reply.started": "2025-03-12T08:50:49.285908Z",
          "shell.execute_reply": "2025-03-12T08:50:49.407034Z"
        },
        "id": "NZVxfauHpAGd"
      },
      "outputs": [],
      "execution_count": null
    },
    {
      "cell_type": "code",
      "source": [
        "results_bayes_df = pd.DataFrame(results)"
      ],
      "metadata": {
        "trusted": true,
        "execution": {
          "iopub.status.busy": "2025-03-12T08:50:49.409015Z",
          "iopub.execute_input": "2025-03-12T08:50:49.40927Z",
          "iopub.status.idle": "2025-03-12T08:50:49.414205Z",
          "shell.execute_reply.started": "2025-03-12T08:50:49.409248Z",
          "shell.execute_reply": "2025-03-12T08:50:49.413002Z"
        },
        "id": "Xw8MhG0fpAGd"
      },
      "outputs": [],
      "execution_count": null
    },
    {
      "cell_type": "code",
      "source": [
        "results_bayes_df.head()"
      ],
      "metadata": {
        "trusted": true,
        "execution": {
          "iopub.status.busy": "2025-03-12T08:50:49.415382Z",
          "iopub.execute_input": "2025-03-12T08:50:49.415765Z",
          "iopub.status.idle": "2025-03-12T08:50:49.439388Z",
          "shell.execute_reply.started": "2025-03-12T08:50:49.415727Z",
          "shell.execute_reply": "2025-03-12T08:50:49.438163Z"
        },
        "id": "wI_odyWapAGd"
      },
      "outputs": [],
      "execution_count": null
    },
    {
      "cell_type": "markdown",
      "source": [
        "Оценка параметров модели.\n",
        "\n",
        "1. class_prior_: для всех моделей данные хорошо сбалансированы по классам.\n",
        "2. class_count_: с уменьшением тестовой выборки увеличивается размер обучающей.\n",
        "3. theta_: средние значения всех признаков для кжадого класса остается примерно постоянным.\n",
        "4. var_: дисперсия, показывающая степень разброса значений признаков вокруг среднего значения (для каждого класса) остается примерно постоянным.\n"
      ],
      "metadata": {
        "id": "dwz6EmQGpAGe"
      }
    },
    {
      "cell_type": "markdown",
      "source": [
        "###  Визуализация результатов"
      ],
      "metadata": {
        "id": "DwaO_0iEpAGe"
      }
    },
    {
      "cell_type": "code",
      "source": [
        "# построение графика с одной метрикой\n",
        "def metric_visualization(results_df, metrics):\n",
        "    fig, axes = plt.subplots(2, 2, figsize=(15, 10))\n",
        "\n",
        "    for ax, metric in zip(axes.flat, metrics):\n",
        "        ax.plot(results_df['Test_Size'], results_df[metric], marker='o')\n",
        "        ax.set_title(metric)\n",
        "        ax.set_xlabel('Test Size')\n",
        "        ax.set_ylabel('Score')\n",
        "        ax.grid(True)\n",
        "\n",
        "    plt.tight_layout()\n",
        "    plt.show()"
      ],
      "metadata": {
        "trusted": true,
        "execution": {
          "iopub.status.busy": "2025-03-12T08:50:49.440611Z",
          "iopub.execute_input": "2025-03-12T08:50:49.440974Z",
          "iopub.status.idle": "2025-03-12T08:50:49.45347Z",
          "shell.execute_reply.started": "2025-03-12T08:50:49.440932Z",
          "shell.execute_reply": "2025-03-12T08:50:49.452468Z"
        },
        "id": "e3aYt1hRpAGf"
      },
      "outputs": [],
      "execution_count": null
    },
    {
      "cell_type": "code",
      "source": [
        "# все метрики\n",
        "metrics = ['Accuracy', 'Precision', 'Recall', 'F1-Score']\n",
        "metric_visualization(results_bayes_df, metrics)"
      ],
      "metadata": {
        "trusted": true,
        "execution": {
          "iopub.status.busy": "2025-03-12T08:50:49.454467Z",
          "iopub.execute_input": "2025-03-12T08:50:49.454761Z",
          "iopub.status.idle": "2025-03-12T08:50:50.322796Z",
          "shell.execute_reply.started": "2025-03-12T08:50:49.454735Z",
          "shell.execute_reply": "2025-03-12T08:50:50.321756Z"
        },
        "id": "6CsUdKSzpAGf"
      },
      "outputs": [],
      "execution_count": null
    },
    {
      "cell_type": "code",
      "source": [
        "def visualization_all_metrics(results_df, title):\n",
        "    plt.figure(figsize=(10, 5))\n",
        "    plt.plot(results_df['Test_Size'], results_df['Accuracy'], marker='o', label='Accuracy')\n",
        "    plt.plot(results_df['Test_Size'], results_df['Precision'], marker='o', label='Precision')\n",
        "    plt.plot(results_df['Test_Size'], results_df['Recall'], marker='o', label='Recall')\n",
        "    plt.plot(results_df['Test_Size'], results_df['F1-Score'], marker='o', label='F1-Score')\n",
        "    plt.title(title)\n",
        "    plt.xlabel('Test Size')\n",
        "    plt.ylabel('Score')\n",
        "    plt.legend()\n",
        "    plt.grid(True)\n",
        "    plt.show()"
      ],
      "metadata": {
        "trusted": true,
        "execution": {
          "iopub.status.busy": "2025-03-12T08:50:50.325885Z",
          "iopub.execute_input": "2025-03-12T08:50:50.326194Z",
          "iopub.status.idle": "2025-03-12T08:50:50.332197Z",
          "shell.execute_reply.started": "2025-03-12T08:50:50.326166Z",
          "shell.execute_reply": "2025-03-12T08:50:50.331007Z"
        },
        "id": "ZbZHjKszpAGg"
      },
      "outputs": [],
      "execution_count": null
    },
    {
      "cell_type": "code",
      "source": [
        "visualization_all_metrics(results_bayes_df, 'Метрики байесовской классификации')"
      ],
      "metadata": {
        "trusted": true,
        "execution": {
          "iopub.status.busy": "2025-03-12T08:50:50.334403Z",
          "iopub.execute_input": "2025-03-12T08:50:50.334764Z",
          "iopub.status.idle": "2025-03-12T08:50:50.605042Z",
          "shell.execute_reply.started": "2025-03-12T08:50:50.334734Z",
          "shell.execute_reply": "2025-03-12T08:50:50.604049Z"
        },
        "id": "QgwVv0XipAGg"
      },
      "outputs": [],
      "execution_count": null
    },
    {
      "cell_type": "markdown",
      "source": [
        "###  Выводы по байесовской классификации\n",
        "По результатам на графике, можно сделать следующие выводы.\n",
        "1. Модель лучше обобщает данные, когда на обучение было подано больше данных.\n",
        "2. С уменьшением тестовой выборки возможно переобучение модели."
      ],
      "metadata": {
        "id": "sjqIKjKEpAGg"
      }
    },
    {
      "cell_type": "markdown",
      "source": [
        "## Деревья решений"
      ],
      "metadata": {
        "id": "WMDiml-ApAGh"
      }
    },
    {
      "cell_type": "markdown",
      "source": [
        "1. Выполните классификацию набора данных из задания о Байесовской классификации с помощью построения дерева решений, варьируя следующие параметры: критерий выбора атрибута разбиения (information gain, index gini) и соотношение мощностей обучающей и тестовой выборок (от 60%:40% до 90%:10% с шагом 5%).\n",
        "2. Выполните визуализацию построенных деревьев решений.\n",
        "Вычислите показатели качества классификации: аккуратность (accuracy), точность (precision), полнота (recall), F-мера.\n",
        "3. Выполните визуализацию полученных результатов в виде диаграмм."
      ],
      "metadata": {
        "id": "BskCyqoYpAGh"
      }
    },
    {
      "cell_type": "markdown",
      "source": [
        "Алгоритм построения дерева решений: корневой узел проверяет условие на атрибут объекта и создает на основе результатов внутренние узлы. Узлы-листья являются метками класса. Ребрами графа являются переходы исходя из результата выполнения условия. Листы создаются, когда все объекты принадлежат одному классу, иначе выбирается атрибут для разбиения."
      ],
      "metadata": {
        "id": "rWlzVYPXpAGh"
      }
    },
    {
      "cell_type": "code",
      "source": [
        "# Функция для выполнения классификации и вычисления метрик с помощью дерева решений\n",
        "def classify_and_evaluate_decision_tree(X, y, test_size, criterion):\n",
        "    # Деление данных на обучающую и тестовую выборки\n",
        "    X_train, X_test, y_train, y_test = train_test_split(X, y, test_size=test_size, random_state=42)\n",
        "\n",
        "    # Обучение модели дерева решений с выбранным критерием разбиения\n",
        "    model = DecisionTreeClassifier(criterion=criterion, random_state=42)\n",
        "    model.fit(X_train, y_train)\n",
        "\n",
        "    # Параметры модели\n",
        "    depth = model.get_depth()\n",
        "    leaves = model.get_n_leaves()\n",
        "    print(f\"Модель дерева решений с объемом тестовой выборки: {test_size:.3f} и критерием разбиения: {criterion}\")\n",
        "    print(f\"Глубина дерева: {depth}\")\n",
        "    print(f\"Количество листьев: {leaves}\\n\")\n",
        "\n",
        "    # Предсказание на тестовой выборке\n",
        "    y_pred = model.predict(X_test)\n",
        "\n",
        "    # Метрики\n",
        "    accuracy = accuracy_score(y_test, y_pred)\n",
        "    precision = precision_score(y_test, y_pred)\n",
        "    recall = recall_score(y_test, y_pred)\n",
        "    f1 = f1_score(y_test, y_pred)\n",
        "\n",
        "    return model, accuracy, precision, recall, f1, depth, leaves"
      ],
      "metadata": {
        "trusted": true,
        "execution": {
          "iopub.status.busy": "2025-03-12T08:50:50.606213Z",
          "iopub.execute_input": "2025-03-12T08:50:50.606515Z",
          "iopub.status.idle": "2025-03-12T08:50:50.612963Z",
          "shell.execute_reply.started": "2025-03-12T08:50:50.606491Z",
          "shell.execute_reply": "2025-03-12T08:50:50.611936Z"
        },
        "id": "_6bzob7apAGh"
      },
      "outputs": [],
      "execution_count": null
    },
    {
      "cell_type": "markdown",
      "source": [
        "В библиотеке scikit-learn для алгоритма построения дерева решений [DecisionTreeClassifier](https://scikit-learn.ru/stable/modules/tree.html) используется алгоритм CART (Classification and Regression Tree):\n",
        "- узел разбивается на два дочерних;\n",
        "- поддерживается два критерия разбиения (индекс и энтропия).\n",
        "Основная цель - минимизировать неопределенность в каждом узле, делая их как можно более чистыми (однородными)."
      ],
      "metadata": {
        "id": "FN20ZtElpAGi"
      }
    },
    {
      "cell_type": "code",
      "source": [
        "# Метод для визуализации дерева решений\n",
        "def visualize_decision_tree(model, feature_names, title):\n",
        "    dot_data = export_graphviz(model, out_file=None, feature_names=feature_names, class_names=True, filled=True, rounded=True, special_characters=True)\n",
        "    graph = graphviz.Source(dot_data)\n",
        "    graph.render(title, format='png')  # Сохранение графика в файл\n",
        "    display(graph)  # Отображение графика"
      ],
      "metadata": {
        "trusted": true,
        "execution": {
          "iopub.status.busy": "2025-03-12T08:50:50.614014Z",
          "iopub.execute_input": "2025-03-12T08:50:50.614382Z",
          "iopub.status.idle": "2025-03-12T08:50:50.635401Z",
          "shell.execute_reply.started": "2025-03-12T08:50:50.614345Z",
          "shell.execute_reply": "2025-03-12T08:50:50.634452Z"
        },
        "id": "EQmgQY3npAGi"
      },
      "outputs": [],
      "execution_count": null
    },
    {
      "cell_type": "code",
      "source": [
        "# хранение результатов\n",
        "results_decision_tree = {\n",
        "    'Test_Size': [],\n",
        "    'Criterion': [],\n",
        "    'Accuracy': [],\n",
        "    'Precision': [],\n",
        "    'Recall': [],\n",
        "    'F1-Score': [],\n",
        "    'Depth': [],\n",
        "    'Leaves': []\n",
        "}"
      ],
      "metadata": {
        "trusted": true,
        "execution": {
          "iopub.status.busy": "2025-03-12T08:50:50.63647Z",
          "iopub.execute_input": "2025-03-12T08:50:50.636856Z",
          "iopub.status.idle": "2025-03-12T08:50:50.650703Z",
          "shell.execute_reply.started": "2025-03-12T08:50:50.636815Z",
          "shell.execute_reply": "2025-03-12T08:50:50.649659Z"
        },
        "id": "DTYdUu-vpAGo"
      },
      "outputs": [],
      "execution_count": null
    },
    {
      "cell_type": "code",
      "source": [
        "criterions = ['gini', 'entropy']\n",
        "selected_test_sizes = [0.4, 0.1]\n",
        "\n",
        "# Классификации и оценка метрик для выбранных выборок и критерия разбиения\n",
        "for criterion in criterions:\n",
        "    for test_size in selected_test_sizes:\n",
        "        model, accuracy, precision, recall, f1, depth, leaves = classify_and_evaluate_decision_tree(X, y, test_size, criterion)\n",
        "        results_decision_tree['Test_Size'].append(test_size)\n",
        "        results_decision_tree['Criterion'].append(criterion)\n",
        "        results_decision_tree['Accuracy'].append(accuracy)\n",
        "        results_decision_tree['Precision'].append(precision)\n",
        "        results_decision_tree['Recall'].append(recall)\n",
        "        results_decision_tree['F1-Score'].append(f1)\n",
        "        results_decision_tree['Depth'].append(depth)\n",
        "        results_decision_tree['Leaves'].append(leaves)\n",
        "\n",
        "        # Визуализация дерева решений\n",
        "        visualize_decision_tree(model, X.columns, f\"Дерево решений (Test Size {test_size:.3f}, Criterion {criterion})\")\n",
        "\n",
        "# Преобразование результатов в DataFrame\n",
        "results_decision_tree_df = pd.DataFrame(results_decision_tree)\n",
        "print(results_decision_tree_df)"
      ],
      "metadata": {
        "trusted": true,
        "execution": {
          "iopub.status.busy": "2025-03-12T08:50:50.651734Z",
          "iopub.execute_input": "2025-03-12T08:50:50.652006Z",
          "iopub.status.idle": "2025-03-12T08:50:51.888252Z",
          "shell.execute_reply.started": "2025-03-12T08:50:50.651982Z",
          "shell.execute_reply": "2025-03-12T08:50:51.887199Z"
        },
        "id": "-nS0fOl2pAGo"
      },
      "outputs": [],
      "execution_count": null
    },
    {
      "cell_type": "markdown",
      "source": [
        "Классификация производится на двух критериях: `gini` и`entropy`.\n",
        "1. `gini`: измеряет чистоту узла, чем ниже значение, тем более однородные данные в узле. Показывает вероятность: случайно выбранный элемент классифицирован неверно, если метка была определена случайно по распределению меток в узле.\n",
        "2. `entropy`: измеряет степень неопределенности. Чем ниже энтропия, тем данные более однородны. Оценивает предсказуемость данных."
      ],
      "metadata": {
        "id": "jxn55qoTpAGp"
      }
    },
    {
      "cell_type": "markdown",
      "source": [
        "1. Деление дерева прекращается, когда частота узла становится раавной 0 (все образцы относятся к одному классу).\n",
        "2. Дерево достигло максимальной установленной глубин. По умолчанию, DecisionTreeClassifier из библиотеки scikit-learn строит дерево решений до тех пор, пока все листья не будут чистыми или каждый лист не будет содержать менее 2 образцов.\n",
        "3. Количество образцов в узле меньше заданного порога.\n",
        "4. Прекратилось увеличение улучшения качества классификации."
      ],
      "metadata": {
        "id": "9FE5jeSIpAGp"
      }
    },
    {
      "cell_type": "code",
      "source": [
        "# хранение результатов\n",
        "results_decision_tree = {\n",
        "    'Test_Size': [],\n",
        "    'Criterion': [],\n",
        "    'Accuracy': [],\n",
        "    'Precision': [],\n",
        "    'Recall': [],\n",
        "    'F1-Score': [],\n",
        "    'Depth': [],\n",
        "    'Leaves': []\n",
        "}\n",
        "criterions = ['gini', 'entropy']\n",
        "test_sizes = np.arange(0.4, 0.1, -0.05).tolist()"
      ],
      "metadata": {
        "trusted": true,
        "execution": {
          "iopub.status.busy": "2025-03-12T08:50:51.889262Z",
          "iopub.execute_input": "2025-03-12T08:50:51.889546Z",
          "iopub.status.idle": "2025-03-12T08:50:51.894691Z",
          "shell.execute_reply.started": "2025-03-12T08:50:51.889522Z",
          "shell.execute_reply": "2025-03-12T08:50:51.893529Z"
        },
        "id": "_DjUi2H0pAGq"
      },
      "outputs": [],
      "execution_count": null
    },
    {
      "cell_type": "code",
      "source": [
        "# Классификации и оценка метрик для выбранных выборок и критерия разбиения\n",
        "for criterion in criterions:\n",
        "    for test_size in test_sizes:\n",
        "        model, accuracy, precision, recall, f1, depth, leaves = classify_and_evaluate_decision_tree(X, y, test_size, criterion)\n",
        "        results_decision_tree['Test_Size'].append(test_size)\n",
        "        results_decision_tree['Criterion'].append(criterion)\n",
        "        results_decision_tree['Accuracy'].append(accuracy)\n",
        "        results_decision_tree['Precision'].append(precision)\n",
        "        results_decision_tree['Recall'].append(recall)\n",
        "        results_decision_tree['F1-Score'].append(f1)\n",
        "        results_decision_tree['Depth'].append(depth)\n",
        "        results_decision_tree['Leaves'].append(leaves)"
      ],
      "metadata": {
        "trusted": true,
        "execution": {
          "iopub.status.busy": "2025-03-12T08:50:51.895773Z",
          "iopub.execute_input": "2025-03-12T08:50:51.89614Z",
          "iopub.status.idle": "2025-03-12T08:50:52.110644Z",
          "shell.execute_reply.started": "2025-03-12T08:50:51.896104Z",
          "shell.execute_reply": "2025-03-12T08:50:52.109664Z"
        },
        "id": "gbAIgeInpAGq"
      },
      "outputs": [],
      "execution_count": null
    },
    {
      "cell_type": "code",
      "source": [
        "results_decision_tree_df = pd.DataFrame(results_decision_tree)\n",
        "results_decision_tree_df"
      ],
      "metadata": {
        "trusted": true,
        "execution": {
          "iopub.status.busy": "2025-03-12T08:50:52.11163Z",
          "iopub.execute_input": "2025-03-12T08:50:52.111973Z",
          "iopub.status.idle": "2025-03-12T08:50:52.12683Z",
          "shell.execute_reply.started": "2025-03-12T08:50:52.111938Z",
          "shell.execute_reply": "2025-03-12T08:50:52.125905Z"
        },
        "id": "7NWZEuVppAGr"
      },
      "outputs": [],
      "execution_count": null
    },
    {
      "cell_type": "markdown",
      "source": [
        "###  Визуализация полученных результатов"
      ],
      "metadata": {
        "id": "Xc5b0d_kpAGr"
      }
    },
    {
      "cell_type": "code",
      "source": [
        "# Функция для построения столбчатой диаграммы\n",
        "def plot_tree_comparison(results_df):\n",
        "    results_df['Test_Size'] = results_df['Test_Size'].round(3).astype(str)\n",
        "    fig, ax = plt.subplots(2, 1, figsize=(5, 6))\n",
        "\n",
        "    # Диаграмма для глубины дерева\n",
        "    sns.barplot(x='Test_Size', y='Depth', hue='Criterion', data=results_df, ax=ax[0])\n",
        "    ax[0].set_title('Глубина дерева решений в зависимости от критерия разбиения и размера тестовой выборки')\n",
        "    ax[0].set_xlabel('Размер тестовой выборки')\n",
        "    ax[0].set_ylabel('Глубина дерева')\n",
        "    ax[0].invert_xaxis()\n",
        "\n",
        "    # Диаграмма для количества листьев\n",
        "    sns.barplot(x='Test_Size', y='Leaves', hue='Criterion', data=results_df, ax=ax[1])\n",
        "    ax[1].set_title('Количество листьев в зависимости от критерия разбиения и размера тестовой выборки')\n",
        "    ax[1].set_xlabel('Размер тестовой выборки')\n",
        "    ax[1].set_ylabel('Количество листьев')\n",
        "    ax[1].invert_xaxis()\n",
        "\n",
        "    plt.tight_layout()\n",
        "    plt.show()"
      ],
      "metadata": {
        "trusted": true,
        "execution": {
          "iopub.status.busy": "2025-03-12T08:50:52.127937Z",
          "iopub.execute_input": "2025-03-12T08:50:52.128244Z",
          "iopub.status.idle": "2025-03-12T08:50:52.142142Z",
          "shell.execute_reply.started": "2025-03-12T08:50:52.128219Z",
          "shell.execute_reply": "2025-03-12T08:50:52.141073Z"
        },
        "id": "SJtf1RbypAGr"
      },
      "outputs": [],
      "execution_count": null
    },
    {
      "cell_type": "code",
      "source": [
        "plot_tree_comparison(results_decision_tree_df)"
      ],
      "metadata": {
        "trusted": true,
        "execution": {
          "iopub.status.busy": "2025-03-12T08:50:52.143132Z",
          "iopub.execute_input": "2025-03-12T08:50:52.143436Z",
          "iopub.status.idle": "2025-03-12T08:50:52.779407Z",
          "shell.execute_reply.started": "2025-03-12T08:50:52.14341Z",
          "shell.execute_reply": "2025-03-12T08:50:52.77833Z"
        },
        "id": "uUmu2DgypAGs"
      },
      "outputs": [],
      "execution_count": null
    },
    {
      "cell_type": "markdown",
      "source": [
        "Наблюдения.\n",
        "1. Глубина дерева решений по критерию `entropy` выше в сравнении с `gini`. С увеличением размера тестовой выборки различия в глубине дерева между двумя критериями уменьшаются.\n",
        "2. Количество листьев по критерию `entropy` ниже в сравнении с `gini`. С увеличением размера тестовой выборки различия в количестве листьев между двумя критериями уменьшаются."
      ],
      "metadata": {
        "id": "Mrh0SJMYpAGs"
      }
    },
    {
      "cell_type": "code",
      "source": [
        "def metric_visualiz_all(results, metrics):\n",
        "    warnings.filterwarnings(\"ignore\")\n",
        "\n",
        "    results['Test_Size'] = results['Test_Size'].round(3)\n",
        "\n",
        "    fig, axes = plt.subplots(2, 2, figsize=(15, 10))\n",
        "\n",
        "    for ax, metric in zip(axes.flat, metrics):\n",
        "        sns.lineplot(x='Test_Size', y=metric, hue='Criterion', data=results, marker='o', ax=ax)\n",
        "        ax.set_title(f'{metric} в зависимости от критерия разбиения и размера тестовой выборки')\n",
        "        ax.set_xlabel('Размер тестовой выборки')\n",
        "        ax.set_ylabel(metric)\n",
        "        ax.invert_xaxis()\n",
        "        ax.legend(title='Criterion')\n",
        "        ax.grid(True)\n",
        "\n",
        "    plt.tight_layout()\n",
        "    plt.show()"
      ],
      "metadata": {
        "trusted": true,
        "execution": {
          "iopub.status.busy": "2025-03-12T08:50:52.780345Z",
          "iopub.execute_input": "2025-03-12T08:50:52.780611Z",
          "iopub.status.idle": "2025-03-12T08:50:52.786728Z",
          "shell.execute_reply.started": "2025-03-12T08:50:52.780588Z",
          "shell.execute_reply": "2025-03-12T08:50:52.785795Z"
        },
        "id": "7BHPFb8xpAGt"
      },
      "outputs": [],
      "execution_count": null
    },
    {
      "cell_type": "code",
      "source": [
        "# Визуализация всех метрик\n",
        "metrics = ['Accuracy', 'Precision', 'Recall', 'F1-Score']\n",
        "metric_visualiz_all(results_decision_tree_df, metrics)"
      ],
      "metadata": {
        "trusted": true,
        "execution": {
          "iopub.status.busy": "2025-03-12T08:50:52.78768Z",
          "iopub.execute_input": "2025-03-12T08:50:52.787943Z",
          "iopub.status.idle": "2025-03-12T08:50:53.843421Z",
          "shell.execute_reply.started": "2025-03-12T08:50:52.787921Z",
          "shell.execute_reply": "2025-03-12T08:50:53.842154Z"
        },
        "id": "9hkpihaBpAGt"
      },
      "outputs": [],
      "execution_count": null
    },
    {
      "cell_type": "code",
      "source": [
        "def metric_visualiz_all(results):\n",
        "    warnings.filterwarnings(\"ignore\")\n",
        "\n",
        "    results['Test_Size'] = results['Test_Size'].round(3)\n",
        "\n",
        "    # Создание фигуры и подграфиков\n",
        "    fig, axs = plt.subplots(1, 2, figsize=(15, 8))\n",
        "    fig.suptitle('Метрики')\n",
        "\n",
        "    metrics = ['Accuracy', 'Precision', 'Recall', 'F1-Score']\n",
        "    criterions = ['gini', 'entropy']\n",
        "\n",
        "    for i, criterion in enumerate(criterions):\n",
        "        data_subset = results[results['Criterion'] == criterion]\n",
        "        for metric in metrics:\n",
        "            sns.lineplot(x='Test_Size', y=metric, data=data_subset, ax=axs[i], marker='o', label=metric)\n",
        "        axs[i].set_title(f'Метрики ({criterion.capitalize()})')\n",
        "        axs[i].set_xlabel('Размер тестовой выборки')\n",
        "        axs[i].set_ylabel('Значение метрики')\n",
        "        axs[i].invert_xaxis()\n",
        "        axs[i].grid(True)\n",
        "        axs[i].legend(title='Метрика')\n",
        "\n",
        "    plt.tight_layout(rect=[0, 0, 1, 0.96])\n",
        "    plt.show()"
      ],
      "metadata": {
        "trusted": true,
        "execution": {
          "iopub.status.busy": "2025-03-12T08:50:53.844475Z",
          "iopub.execute_input": "2025-03-12T08:50:53.844833Z",
          "iopub.status.idle": "2025-03-12T08:50:53.853218Z",
          "shell.execute_reply.started": "2025-03-12T08:50:53.8448Z",
          "shell.execute_reply": "2025-03-12T08:50:53.852113Z"
        },
        "id": "yIZV03mMpAGt"
      },
      "outputs": [],
      "execution_count": null
    },
    {
      "cell_type": "code",
      "source": [
        "metric_visualiz_all(results_decision_tree_df)"
      ],
      "metadata": {
        "trusted": true,
        "execution": {
          "iopub.status.busy": "2025-03-12T08:50:53.85411Z",
          "iopub.execute_input": "2025-03-12T08:50:53.854358Z",
          "iopub.status.idle": "2025-03-12T08:50:54.632014Z",
          "shell.execute_reply.started": "2025-03-12T08:50:53.854335Z",
          "shell.execute_reply": "2025-03-12T08:50:54.63092Z"
        },
        "id": "j1tAO0iVpAGu"
      },
      "outputs": [],
      "execution_count": null
    },
    {
      "cell_type": "markdown",
      "source": [
        "###  Выводы по деревьям решений"
      ],
      "metadata": {
        "id": "hnr2pmempAGv"
      }
    },
    {
      "cell_type": "markdown",
      "source": [
        "График метрик `gini` в зависимости от размера тестовой выборки:\n",
        "- точность варьируется от 0.965 до 0.945\n",
        "\n",
        "График метрик`entropy`в зависимости от размера тестовой выборки:\n",
        "- точность варьируется от 0.99 до 0.95.\n",
        "\n",
        "Метод `Gini` обеспечивает большую стабильность в метриках Accuracy и Precision на разных размерах тестовой выборки. Метод `Entropy` демонстрирует большую изменчивость, особенно в метрике Recall.\n",
        "\n",
        "Деревья по методу `Gini` имеют меньшую глубину и большее количество узлов, что делает их более устойчивыми к переобучению. Деревья по методу `Entropy` могут быть переобучены за счет большей глубины и сложности построения модели."
      ],
      "metadata": {
        "id": "S9KQIplBpAGv"
      }
    },
    {
      "cell_type": "markdown",
      "source": [
        "##  Бэггинг"
      ],
      "metadata": {
        "id": "CfBTCSXLpAGw"
      }
    },
    {
      "cell_type": "markdown",
      "source": [
        "1. Выполните классификацию набора данных из задания о Байесовской классификации с помощью бэггинга, варьируя количество участников ансамбля (от 50 до 100 с шагом 10).\n",
        "2. Вычислите показатели качества классификации: аккуратность (accuracy), точность (precision), полнота (recall), F-мера. Выполните визуализацию полученных результатов в виде диаграмм. Нанесите на диаграммы соответствующие значения, полученные в заданиях о Байесовской классификации и деревьях решений.\n",
        "3. Подготовьте отчет о выполнении задания и загрузите отчет в формате PDF в систему.  "
      ],
      "metadata": {
        "id": "mQCxFAOnpAGw"
      }
    },
    {
      "cell_type": "markdown",
      "source": [
        "Классификация с помощью [бэггинга](https://scikit-learn.ru/stable/modules/ensemble.html#bagging-meta-estimator) в scikit-learn реализована по принципу ансамблевого метода: добиться улучшения производительности базовых моделей за счет объединения их результатов. В данном случае Базовой моделью выбран GaussianNB().\n",
        "1. Производится многократный выбор подвыборки обучающего набора. Подвыборки используются в обучении моделей ансамбля.\n",
        "2. Обучается отдельная базовая модель на каждой подвыборке.\n",
        "3. Итоговый результат выбирается в виде мажоритарного голосования (выбор наиболее частого)."
      ],
      "metadata": {
        "id": "v97J1WVopAGw"
      }
    },
    {
      "cell_type": "code",
      "source": [
        "# Функция для выполнения классификации и вычисления метрик с помощью бэггинга\n",
        "def classify_and_evaluate_bagging(X, y, test_size, n_estimators):\n",
        "    X_train, X_test, y_train, y_test = train_test_split(X, y, test_size=test_size, random_state=42)\n",
        "\n",
        "    # обучение ансамбля моделей через GaussianNB()\n",
        "    model = BaggingClassifier(base_estimator=GaussianNB(), n_estimators=n_estimators, random_state=42)\n",
        "    model.fit(X_train, y_train)\n",
        "\n",
        "    # модель\n",
        "    print(f\"Модель с объемом тестовой выборки: {test_size:.3f}, количество участников ансамбля: {n_estimators}\")\n",
        "\n",
        "    # предсказание\n",
        "    y_pred = model.predict(X_test)\n",
        "\n",
        "    # метрики\n",
        "    accuracy = accuracy_score(y_test, y_pred)\n",
        "    precision = precision_score(y_test, y_pred)\n",
        "    recall = recall_score(y_test, y_pred)\n",
        "    f1 = f1_score(y_test, y_pred)\n",
        "\n",
        "    # тепловая карта для анализа результатов\n",
        "    # plot_confusion_matrix_heatmap(y_test, y_pred, test_size, n_estimators)\n",
        "\n",
        "    return accuracy, precision, recall, f1"
      ],
      "metadata": {
        "trusted": true,
        "execution": {
          "iopub.status.busy": "2025-03-12T08:50:54.633076Z",
          "iopub.execute_input": "2025-03-12T08:50:54.633376Z",
          "iopub.status.idle": "2025-03-12T08:50:54.639652Z",
          "shell.execute_reply.started": "2025-03-12T08:50:54.63335Z",
          "shell.execute_reply": "2025-03-12T08:50:54.638646Z"
        },
        "id": "ktx3vtlTpAGx"
      },
      "outputs": [],
      "execution_count": null
    },
    {
      "cell_type": "code",
      "source": [
        "# результаты обучения набора классификаторов\n",
        "results_bagging = {\n",
        "    'Test_Size': [],\n",
        "    'n_Estimators': [],\n",
        "    'Accuracy': [],\n",
        "    'Precision': [],\n",
        "    'Recall': [],\n",
        "    'F1-Score': []\n",
        "}\n",
        "# в заданном диапазоне:\n",
        "n_estimators_range = range(50, 101, 10)"
      ],
      "metadata": {
        "trusted": true,
        "execution": {
          "iopub.status.busy": "2025-03-12T08:50:54.640789Z",
          "iopub.execute_input": "2025-03-12T08:50:54.641073Z",
          "iopub.status.idle": "2025-03-12T08:50:54.66356Z",
          "shell.execute_reply.started": "2025-03-12T08:50:54.641049Z",
          "shell.execute_reply": "2025-03-12T08:50:54.66248Z"
        },
        "id": "VNKoXw-bpAGx"
      },
      "outputs": [],
      "execution_count": null
    },
    {
      "cell_type": "code",
      "source": [
        "# классификация и оценка метрик\n",
        "for n_estimators in n_estimators_range:\n",
        "    for test_size in test_sizes:\n",
        "        accuracy, precision, recall, f1 = classify_and_evaluate_bagging(X, y, test_size, n_estimators)\n",
        "        results_bagging['Test_Size'].append(test_size)\n",
        "        results_bagging['n_Estimators'].append(n_estimators)\n",
        "        results_bagging['Accuracy'].append(accuracy)\n",
        "        results_bagging['Precision'].append(precision)\n",
        "        results_bagging['Recall'].append(recall)\n",
        "        results_bagging['F1-Score'].append(f1)\n",
        "\n",
        "results_bagging_df = pd.DataFrame(results_bagging)"
      ],
      "metadata": {
        "trusted": true,
        "execution": {
          "iopub.status.busy": "2025-03-12T08:50:54.664552Z",
          "iopub.execute_input": "2025-03-12T08:50:54.664886Z",
          "iopub.status.idle": "2025-03-12T08:51:01.924169Z",
          "shell.execute_reply.started": "2025-03-12T08:50:54.664851Z",
          "shell.execute_reply": "2025-03-12T08:51:01.923192Z"
        },
        "id": "rEoSo_HUpAGx"
      },
      "outputs": [],
      "execution_count": null
    },
    {
      "cell_type": "code",
      "source": [
        "results_bagging_df.head()"
      ],
      "metadata": {
        "trusted": true,
        "execution": {
          "iopub.status.busy": "2025-03-12T08:51:01.925029Z",
          "iopub.execute_input": "2025-03-12T08:51:01.925305Z",
          "iopub.status.idle": "2025-03-12T08:51:01.937733Z",
          "shell.execute_reply.started": "2025-03-12T08:51:01.925281Z",
          "shell.execute_reply": "2025-03-12T08:51:01.936532Z"
        },
        "id": "D6A222F4pAGy"
      },
      "outputs": [],
      "execution_count": null
    },
    {
      "cell_type": "markdown",
      "source": [
        "###  Визуализация метрик бэггинга"
      ],
      "metadata": {
        "id": "SdjGP7rdpAGy"
      }
    },
    {
      "cell_type": "code",
      "source": [
        "# визуализация метрик бэггинга в сетке 2x2\n",
        "def metric_visualiz_bagging(results, metrics):\n",
        "    warnings.filterwarnings(\"ignore\")\n",
        "    results['Test_Size'] = results['Test_Size'].round(3)\n",
        "\n",
        "    fig, axes = plt.subplots(2, 2, figsize=(15, 10))\n",
        "\n",
        "    for ax, metric in zip(axes.flat, metrics):\n",
        "        sns.lineplot(x='Test_Size', y=metric, hue='n_Estimators', data=results, marker='o', ax=ax)\n",
        "        ax.set_title(metric)\n",
        "        ax.set_xlabel('Размер тестовой выборки')\n",
        "        ax.set_ylabel(metric)\n",
        "        ax.legend(title='n_Estimators', loc='upper left', bbox_to_anchor=(1, 1))\n",
        "        ax.grid(True)\n",
        "\n",
        "    plt.tight_layout()\n",
        "    plt.show()"
      ],
      "metadata": {
        "trusted": true,
        "execution": {
          "iopub.status.busy": "2025-03-12T08:51:01.938847Z",
          "iopub.execute_input": "2025-03-12T08:51:01.939196Z",
          "iopub.status.idle": "2025-03-12T08:51:01.95327Z",
          "shell.execute_reply.started": "2025-03-12T08:51:01.939166Z",
          "shell.execute_reply": "2025-03-12T08:51:01.952302Z"
        },
        "id": "QsCf7Qv4pAGy"
      },
      "outputs": [],
      "execution_count": null
    },
    {
      "cell_type": "code",
      "source": [
        "metrics = ['Accuracy', 'Precision', 'Recall', 'F1-Score']\n",
        "metric_visualiz_bagging(results_bagging_df, metrics)"
      ],
      "metadata": {
        "trusted": true,
        "execution": {
          "iopub.status.busy": "2025-03-12T08:51:01.957948Z",
          "iopub.execute_input": "2025-03-12T08:51:01.958246Z",
          "iopub.status.idle": "2025-03-12T08:51:03.494606Z",
          "shell.execute_reply.started": "2025-03-12T08:51:01.958222Z",
          "shell.execute_reply": "2025-03-12T08:51:03.493553Z"
        },
        "id": "Pg0Tj8zZpAGz"
      },
      "outputs": [],
      "execution_count": null
    },
    {
      "cell_type": "code",
      "source": [
        "def metric_visualiz_all_methods(results_bagging, results_bayes, results_decision_tree, metrics):\n",
        "    warnings.filterwarnings(\"ignore\")\n",
        "\n",
        "    # Округление значений Test_Size\n",
        "    results_bagging['Test_Size'] = results_bagging['Test_Size'].round(3)\n",
        "    results_bayes['Test_Size'] = results_bayes['Test_Size'].round(3)\n",
        "    results_decision_tree['Test_Size'] = results_decision_tree['Test_Size'].round(3)\n",
        "\n",
        "    # Общий DataFrame для всех методов\n",
        "    results_bagging['Method'] = results_bagging['n_Estimators'].apply(lambda x: f'Bagging (n={x})')\n",
        "    results_bayes['Method'] = 'Bayesian'\n",
        "    results_decision_tree['Method'] = results_decision_tree['Criterion'].apply(lambda x: f'Decision Tree ({x.capitalize()})')\n",
        "\n",
        "    combined_results = pd.concat([results_bagging, results_bayes, results_decision_tree], ignore_index=True)\n",
        "\n",
        "    fig, axes = plt.subplots(2, 2, figsize=(15, 10))\n",
        "\n",
        "    # Разбивка по цветам\n",
        "    palette = {\n",
        "        **{f'Bagging (n={x})': sns.color_palette(\"Blues\")[i % 6] for i, x in enumerate(results_bagging['n_Estimators'].unique())},\n",
        "        'Bayesian': 'orange',\n",
        "        'Decision Tree (Gini)': 'limegreen',\n",
        "        'Decision Tree (Entropy)': 'darkgreen'\n",
        "    }\n",
        "\n",
        "    for ax, metric in zip(axes.flat, metrics):\n",
        "        sns.lineplot(x='Test_Size', y=metric, hue='Method', data=combined_results, marker='o', palette=palette, ax=ax)\n",
        "        ax.set_title(f'{metric}')\n",
        "        ax.set_xlabel('Размер тестовой выборки')\n",
        "        ax.set_ylabel(metric)\n",
        "        ax.legend(title='Method', bbox_to_anchor=(1.05, 1), loc='upper left')\n",
        "        ax.grid(True)\n",
        "\n",
        "    plt.tight_layout()\n",
        "    plt.show()"
      ],
      "metadata": {
        "trusted": true,
        "execution": {
          "iopub.status.busy": "2025-03-12T08:51:03.496076Z",
          "iopub.execute_input": "2025-03-12T08:51:03.496341Z",
          "iopub.status.idle": "2025-03-12T08:51:03.506082Z",
          "shell.execute_reply.started": "2025-03-12T08:51:03.496318Z",
          "shell.execute_reply": "2025-03-12T08:51:03.504991Z"
        },
        "id": "M6YXIhpQpAGz"
      },
      "outputs": [],
      "execution_count": null
    },
    {
      "cell_type": "code",
      "source": [
        "# Визуализация всех метрик по всем моделям\n",
        "metrics = ['Accuracy', 'Precision', 'Recall', 'F1-Score']\n",
        "metric_visualiz_all_methods(results_bagging_df, results_bayes_df, results_decision_tree_df, metrics)\n"
      ],
      "metadata": {
        "trusted": true,
        "execution": {
          "iopub.status.busy": "2025-03-12T08:51:03.507345Z",
          "iopub.execute_input": "2025-03-12T08:51:03.507772Z",
          "iopub.status.idle": "2025-03-12T08:51:05.098673Z",
          "shell.execute_reply.started": "2025-03-12T08:51:03.507736Z",
          "shell.execute_reply": "2025-03-12T08:51:05.097597Z"
        },
        "id": "f0tPHO1lpAG0"
      },
      "outputs": [],
      "execution_count": null
    },
    {
      "cell_type": "markdown",
      "source": [
        "###  Выводы по классификации методом бэггинга"
      ],
      "metadata": {
        "id": "17oFyi4cpAG0"
      }
    },
    {
      "cell_type": "markdown",
      "source": [
        "Точность Баейсовской классификации сопоставима с деревьями решений. Возможна потеря точности в случае зависимых друг от друга атрибутов. Используется как теоретическое обоснование других классификаторов.\n",
        "\n",
        "Недостатки использования деревьев: сложно найти лучшее дерево, возможно переобучение.\n",
        "\n",
        "В бэггинге сложно интерпретировать результаты по сравнению с одним классификатором, поскольку значения для разного количества участников ансамбля отличаются.\n",
        "\n",
        "Сравнение моделей.\n",
        "1. Точность: деревья решений показали наибольшую точность по сравнению с методом Баейсовской классификации и бэггинга (на них точность совпадает за счет применения одной и той же базовой модели Гаусса).\n",
        "2. Точность предсказаний: деревья решений наиболее точные, при этом применение ансамблевого метода бэггинг точнее простой модели Баейсовской классификации.\n",
        "3. Recall: дерево решений с энтропией показало лучшие результаты с уменьшением размера тестовой выборки. Производительность на бэггинге уменьшилась с уменьшением размера тестовой выборки.\n",
        "4. F1-Score: деревья решений показали лучшие результаты, в т.ч. на малых размерах тестовой выборки. Бэггинг и баейсовская классификация совпали и привели к ухудшению результата на малой тестовой выборке.\n",
        "\n"
      ],
      "metadata": {
        "id": "ltU37P9OpAG1"
      }
    },
    {
      "cell_type": "markdown",
      "source": [
        "##  Случайный лес"
      ],
      "metadata": {
        "id": "ZXx82hjspAG1"
      }
    },
    {
      "cell_type": "markdown",
      "source": [
        "В библиотеке [RandomForestClassifier](https://scikit-learn.ru/stable/modules/ensemble.html#random-forest) является ансамблевым методом: используется множество деревьев для принятия решений. Метод основан на объединении слабых моделей (деревьев) в одну сильную модель. По умолчанию в методе используется критерий `gini` для разбиения узлов. Для каждого разбиения узла выбирается случайное подмножество признаков. В задаче классификации каждое дерево голосует за класс, и итоговый класс определяется большинством голосов."
      ],
      "metadata": {
        "id": "2ZoUWqo5pAG2"
      }
    },
    {
      "cell_type": "code",
      "source": [
        "# Функция для выполнения классификации и вычисления метрик с помощью случайного леса\n",
        "def classify_and_evaluate_random_forest(X, y, test_size, n_estimators):\n",
        "    X_train, X_test, y_train, y_test = train_test_split(X, y, test_size=test_size, random_state=42)\n",
        "\n",
        "    # Обучение случайного леса\n",
        "    model = RandomForestClassifier(n_estimators=n_estimators, random_state=42)\n",
        "    model.fit(X_train, y_train)\n",
        "\n",
        "    # Предсказание\n",
        "    y_pred = model.predict(X_test)\n",
        "\n",
        "    # модель\n",
        "    print(f\"Модель с объемом тестовой выборки: {test_size:.3f}, количество участников ансамбля: {n_estimators}\")\n",
        "\n",
        "    # Метрики\n",
        "    accuracy = accuracy_score(y_test, y_pred)\n",
        "    precision = precision_score(y_test, y_pred )\n",
        "    recall = recall_score(y_test, y_pred )\n",
        "    f1 = f1_score(y_test, y_pred)\n",
        "\n",
        "    return accuracy, precision, recall, f1"
      ],
      "metadata": {
        "trusted": true,
        "execution": {
          "iopub.status.busy": "2025-03-12T08:51:05.09971Z",
          "iopub.execute_input": "2025-03-12T08:51:05.099992Z",
          "iopub.status.idle": "2025-03-12T08:51:05.10631Z",
          "shell.execute_reply.started": "2025-03-12T08:51:05.099966Z",
          "shell.execute_reply": "2025-03-12T08:51:05.105262Z"
        },
        "id": "DTnE5B2dpAG2"
      },
      "outputs": [],
      "execution_count": null
    },
    {
      "cell_type": "code",
      "source": [
        "# хранимые езультаты обучения набора классификаторов\n",
        "results_random_forest = {\n",
        "    'Test_Size': [],\n",
        "    'n_Estimators': [],\n",
        "    'Accuracy': [],\n",
        "    'Precision': [],\n",
        "    'Recall': [],\n",
        "    'F1-Score': []\n",
        "}\n",
        "\n",
        "# в заданном диапазоне\n",
        "n_estimators_range = range(50, 101, 10)\n",
        "\n",
        "# соотношение мощностей обучающей и тестовой выборок от 60%:40% до 90%:10% с шагом 5%\n",
        "test_sizes = np.arange(0.4, 0.1, -0.05).tolist()"
      ],
      "metadata": {
        "trusted": true,
        "execution": {
          "iopub.status.busy": "2025-03-12T08:51:05.107391Z",
          "iopub.execute_input": "2025-03-12T08:51:05.107768Z",
          "iopub.status.idle": "2025-03-12T08:51:05.127843Z",
          "shell.execute_reply.started": "2025-03-12T08:51:05.107732Z",
          "shell.execute_reply": "2025-03-12T08:51:05.126564Z"
        },
        "id": "THehmEAspAG2"
      },
      "outputs": [],
      "execution_count": null
    },
    {
      "cell_type": "code",
      "source": [
        "# Классификация и оценка метрик\n",
        "for n_estimators in n_estimators_range:\n",
        "    for test_size in test_sizes:\n",
        "        accuracy, precision, recall, f1 = classify_and_evaluate_random_forest(X, y, test_size, n_estimators)\n",
        "        results_random_forest['Test_Size'].append(test_size)\n",
        "        results_random_forest['n_Estimators'].append(n_estimators)\n",
        "        results_random_forest['Accuracy'].append(accuracy)\n",
        "        results_random_forest['Precision'].append(precision)\n",
        "        results_random_forest['Recall'].append(recall)\n",
        "        results_random_forest['F1-Score'].append(f1)\n",
        "\n",
        "results_random_forest_df = pd.DataFrame(results_random_forest)"
      ],
      "metadata": {
        "trusted": true,
        "execution": {
          "iopub.status.busy": "2025-03-12T08:51:05.129079Z",
          "iopub.execute_input": "2025-03-12T08:51:05.129461Z",
          "iopub.status.idle": "2025-03-12T08:51:12.239016Z",
          "shell.execute_reply.started": "2025-03-12T08:51:05.129427Z",
          "shell.execute_reply": "2025-03-12T08:51:12.238154Z"
        },
        "id": "9leCniAYpAG3"
      },
      "outputs": [],
      "execution_count": null
    },
    {
      "cell_type": "code",
      "source": [
        "results_random_forest_df.head()"
      ],
      "metadata": {
        "trusted": true,
        "execution": {
          "iopub.status.busy": "2025-03-12T08:51:12.239905Z",
          "iopub.execute_input": "2025-03-12T08:51:12.240185Z",
          "iopub.status.idle": "2025-03-12T08:51:12.251641Z",
          "shell.execute_reply.started": "2025-03-12T08:51:12.240162Z",
          "shell.execute_reply": "2025-03-12T08:51:12.250677Z"
        },
        "id": "oOmX3SIlpAG3"
      },
      "outputs": [],
      "execution_count": null
    },
    {
      "cell_type": "markdown",
      "source": [
        "### Визуализация полученных результатов"
      ],
      "metadata": {
        "id": "l3a1DUCRpAG3"
      }
    },
    {
      "cell_type": "code",
      "source": [
        "def metric_visualiz_random_forest(results, metrics):\n",
        "    warnings.filterwarnings(\"ignore\")\n",
        "    results['Test_Size'] = results['Test_Size'].round(3)\n",
        "\n",
        "    fig, axes = plt.subplots(2, 2, figsize=(15, 10))\n",
        "\n",
        "    for ax, metric in zip(axes.flat, metrics):\n",
        "        sns.lineplot(x='Test_Size', y=metric, hue='n_Estimators', data=results, marker='o', ax=ax)\n",
        "        ax.set_title(metric)\n",
        "        ax.set_xlabel('Размер тестовой выборки')\n",
        "        ax.set_ylabel(metric)\n",
        "        ax.legend(title='n_Estimators', loc='upper left', bbox_to_anchor=(1, 1))\n",
        "        ax.grid(True)\n",
        "\n",
        "    plt.tight_layout()\n",
        "    plt.show()"
      ],
      "metadata": {
        "trusted": true,
        "execution": {
          "iopub.status.busy": "2025-03-12T08:51:12.252706Z",
          "iopub.execute_input": "2025-03-12T08:51:12.25309Z",
          "iopub.status.idle": "2025-03-12T08:51:12.267375Z",
          "shell.execute_reply.started": "2025-03-12T08:51:12.253039Z",
          "shell.execute_reply": "2025-03-12T08:51:12.266344Z"
        },
        "id": "k-vLUXV_pAG4"
      },
      "outputs": [],
      "execution_count": null
    },
    {
      "cell_type": "code",
      "source": [
        "# Визуализация всех метрик\n",
        "metrics = ['Accuracy', 'Precision', 'Recall', 'F1-Score']\n",
        "metric_visualiz_random_forest(results_random_forest_df, metrics)"
      ],
      "metadata": {
        "trusted": true,
        "execution": {
          "iopub.status.busy": "2025-03-12T08:51:12.268433Z",
          "iopub.execute_input": "2025-03-12T08:51:12.268768Z",
          "iopub.status.idle": "2025-03-12T08:51:13.753611Z",
          "shell.execute_reply.started": "2025-03-12T08:51:12.268741Z",
          "shell.execute_reply": "2025-03-12T08:51:13.752239Z"
        },
        "id": "r13C4QK3pAG4"
      },
      "outputs": [],
      "execution_count": null
    },
    {
      "cell_type": "code",
      "source": [
        "# Функция для визуализации всех методов\n",
        "def metric_visualiz_all_methods(results_bagging, results_random_forest, results_bayes, results_decision_tree, metrics):\n",
        "    warnings.filterwarnings(\"ignore\")\n",
        "\n",
        "    # Округление значений Test_Size\n",
        "    results_bagging['Test_Size'] = results_bagging['Test_Size'].round(3)\n",
        "    results_random_forest['Test_Size'] = results_random_forest['Test_Size'].round(3)\n",
        "    results_bayes['Test_Size'] = results_bayes['Test_Size'].round(3)\n",
        "    results_decision_tree['Test_Size'] = results_decision_tree['Test_Size'].round(3)\n",
        "\n",
        "    # Общий DataFrame для всех методов\n",
        "    results_bagging['Method'] = results_bagging['n_Estimators'].apply(lambda x: f'Bagging (n={x})')\n",
        "    results_random_forest['Method'] = results_random_forest['n_Estimators'].apply(lambda x: f'Random Forest (n={x})')\n",
        "    results_bayes['Method'] = 'Bayesian'\n",
        "    results_decision_tree['Method'] = results_decision_tree['Criterion'].apply(lambda x: f'Decision Tree ({x.capitalize()})')\n",
        "\n",
        "    combined_results = pd.concat([results_bagging, results_random_forest, results_bayes, results_decision_tree], ignore_index=True)\n",
        "\n",
        "    fig, axes = plt.subplots(2, 2, figsize=(15, 10))\n",
        "\n",
        "    # Разбивка по цветам\n",
        "    palette = {\n",
        "        **{f'Bagging (n={x})': sns.color_palette(\"Blues\")[i % 6] for i, x in enumerate(results_bagging['n_Estimators'].unique())},\n",
        "        **{f'Random Forest (n={x})': sns.color_palette(\"Reds\")[i % 6] for i, x in enumerate(results_random_forest['n_Estimators'].unique())},\n",
        "        'Bayesian': 'orange',\n",
        "        'Decision Tree (Gini)': 'limegreen',\n",
        "        'Decision Tree (Entropy)': 'darkgreen'\n",
        "    }\n",
        "\n",
        "    for ax, metric in zip(axes.flat, metrics):\n",
        "        sns.lineplot(x='Test_Size', y=metric, hue='Method', data=combined_results, marker='o', palette=palette, ax=ax)\n",
        "        ax.set_title(f'{metric}')\n",
        "        ax.set_xlabel('Размер тестовой выборки')\n",
        "        ax.set_ylabel(metric)\n",
        "\n",
        "        ax.legend(title='Method', bbox_to_anchor=(1.05, 1), loc='upper left')\n",
        "        ax.grid(True)\n",
        "\n",
        "    plt.tight_layout()\n",
        "    plt.show()"
      ],
      "metadata": {
        "trusted": true,
        "execution": {
          "iopub.status.busy": "2025-03-12T08:51:13.754748Z",
          "iopub.execute_input": "2025-03-12T08:51:13.755131Z",
          "iopub.status.idle": "2025-03-12T08:51:13.765435Z",
          "shell.execute_reply.started": "2025-03-12T08:51:13.755095Z",
          "shell.execute_reply": "2025-03-12T08:51:13.764587Z"
        },
        "id": "pezbNVnJpAG4"
      },
      "outputs": [],
      "execution_count": null
    },
    {
      "cell_type": "code",
      "source": [
        "metric_visualiz_all_methods(results_bagging_df, results_random_forest_df, results_bayes_df, results_decision_tree_df, metrics)"
      ],
      "metadata": {
        "trusted": true,
        "execution": {
          "iopub.status.busy": "2025-03-12T08:51:13.766646Z",
          "iopub.execute_input": "2025-03-12T08:51:13.767028Z",
          "iopub.status.idle": "2025-03-12T08:51:15.637893Z",
          "shell.execute_reply.started": "2025-03-12T08:51:13.766979Z",
          "shell.execute_reply": "2025-03-12T08:51:15.636829Z"
        },
        "id": "oVWDoylSpAG5"
      },
      "outputs": [],
      "execution_count": null
    },
    {
      "cell_type": "markdown",
      "source": [
        "###  Выводы по случайному лесу"
      ],
      "metadata": {
        "id": "QuPTOAuSpAG5"
      }
    },
    {
      "cell_type": "markdown",
      "source": [
        "Модель случайного леса показывает более высокую точность на всех графиках. С увеличением количества моделей в ансамбле точность увеличивается. Значительное увеличение количества моделей в ансамбле более 70 не приводит к явному улучшению производительности. Модель случайного леса хорошо подходит в условиях малой обучающей выборке на небольших наборах данных.\n",
        "\n",
        "С уменьшением объема обучающей выборки лучше всего для данного набора использовать модель бэггинга. При этом значительное увеличение количества моделей в ансамбле не дает значительного прироста в точности."
      ],
      "metadata": {
        "id": "To1Uiwh9pAG5"
      }
    },
    {
      "cell_type": "markdown",
      "source": [
        "## Бустинг"
      ],
      "metadata": {
        "id": "wtNy7VXCpAG5"
      }
    },
    {
      "cell_type": "code",
      "source": [
        "def classify_and_evaluate_boosting(X, y, test_size, n_estimators):\n",
        "    X_train, X_test, y_train, y_test = train_test_split(X, y, test_size=test_size, random_state=42)\n",
        "\n",
        "    # Обучение бустинга\n",
        "    model = GradientBoostingClassifier(n_estimators=n_estimators, random_state=42)\n",
        "    model.fit(X_train, y_train)\n",
        "\n",
        "    # Предсказание\n",
        "    y_pred = model.predict(X_test)\n",
        "\n",
        "    # модель\n",
        "    print(f\"Модель с объемом тестовой выборки: {test_size:.3f}, количество участников ансамбля: {n_estimators}\")\n",
        "\n",
        "    # Метрики\n",
        "    accuracy = accuracy_score(y_test, y_pred)\n",
        "    precision = precision_score(y_test, y_pred, average='weighted')\n",
        "    recall = recall_score(y_test, y_pred, average='weighted')\n",
        "    f1 = f1_score(y_test, y_pred, average='weighted')\n",
        "\n",
        "    return accuracy, precision, recall, f1\n"
      ],
      "metadata": {
        "trusted": true,
        "execution": {
          "iopub.status.busy": "2025-03-12T08:51:15.638851Z",
          "iopub.execute_input": "2025-03-12T08:51:15.639134Z",
          "iopub.status.idle": "2025-03-12T08:51:15.645678Z",
          "shell.execute_reply.started": "2025-03-12T08:51:15.639109Z",
          "shell.execute_reply": "2025-03-12T08:51:15.644492Z"
        },
        "id": "FKIbNBqkpAG6"
      },
      "outputs": [],
      "execution_count": null
    },
    {
      "cell_type": "code",
      "source": [
        "results_boosting = {\n",
        "    'Test_Size': [],\n",
        "    'n_Estimators': [],\n",
        "    'Accuracy': [],\n",
        "    'Precision': [],\n",
        "    'Recall': [],\n",
        "    'F1-Score': []\n",
        "}\n",
        "\n",
        "# в заданном диапазоне\n",
        "n_estimators_range = range(50, 101, 10)\n",
        "\n",
        "# соотношение мощностей обучающей и тестовой выборок от 60%:40% до 90%:10% с шагом 5%\n",
        "test_sizes = np.arange(0.4, 0.1, -0.05).tolist()\n",
        "\n",
        "# Классификация и оценка метрик\n",
        "for n_estimators in n_estimators_range:\n",
        "    for test_size in test_sizes:\n",
        "        accuracy, precision, recall, f1 = classify_and_evaluate_boosting(X, y, test_size, n_estimators)\n",
        "        results_boosting['Test_Size'].append(test_size)\n",
        "        results_boosting['n_Estimators'].append(n_estimators)\n",
        "        results_boosting['Accuracy'].append(accuracy)\n",
        "        results_boosting['Precision'].append(precision)\n",
        "        results_boosting['Recall'].append(recall)\n",
        "        results_boosting['F1-Score'].append(f1)\n",
        "\n",
        "results_boosting_df = pd.DataFrame(results_boosting)"
      ],
      "metadata": {
        "trusted": true,
        "execution": {
          "iopub.status.busy": "2025-03-12T08:51:15.646558Z",
          "iopub.execute_input": "2025-03-12T08:51:15.646854Z",
          "iopub.status.idle": "2025-03-12T08:51:23.676566Z",
          "shell.execute_reply.started": "2025-03-12T08:51:15.646822Z",
          "shell.execute_reply": "2025-03-12T08:51:23.675523Z"
        },
        "id": "CQV4gu6EpAG6"
      },
      "outputs": [],
      "execution_count": null
    },
    {
      "cell_type": "code",
      "source": [
        "results_boosting_df.head()"
      ],
      "metadata": {
        "trusted": true,
        "execution": {
          "iopub.status.busy": "2025-03-12T08:51:23.677563Z",
          "iopub.execute_input": "2025-03-12T08:51:23.677893Z",
          "iopub.status.idle": "2025-03-12T08:51:23.690026Z",
          "shell.execute_reply.started": "2025-03-12T08:51:23.677865Z",
          "shell.execute_reply": "2025-03-12T08:51:23.688918Z"
        },
        "id": "jVdWYnpNpAG6"
      },
      "outputs": [],
      "execution_count": null
    },
    {
      "cell_type": "markdown",
      "source": [
        "###  Визуализация полученных результатов"
      ],
      "metadata": {
        "id": "V-PVXG2gpAG6"
      }
    },
    {
      "cell_type": "code",
      "source": [
        "def metric_visualiz_boosting(results, metrics):\n",
        "    warnings.filterwarnings(\"ignore\")\n",
        "    results['Test_Size'] = results['Test_Size'].round(3)\n",
        "\n",
        "    fig, axes = plt.subplots(2, 2, figsize=(15, 10))\n",
        "\n",
        "    for ax, metric in zip(axes.flat, metrics):\n",
        "        sns.lineplot(x='Test_Size', y=metric, hue='n_Estimators', data=results, marker='o', ax=ax)\n",
        "        ax.set_title(metric)\n",
        "        ax.set_xlabel('Размер тестовой выборки')\n",
        "        ax.set_ylabel(metric)\n",
        "        ax.legend(title='n_Estimators', loc='upper left', bbox_to_anchor=(1, 1))\n",
        "        ax.grid(True)\n",
        "\n",
        "    plt.tight_layout()\n",
        "    plt.show()"
      ],
      "metadata": {
        "trusted": true,
        "execution": {
          "iopub.status.busy": "2025-03-12T08:51:23.691112Z",
          "iopub.execute_input": "2025-03-12T08:51:23.691441Z",
          "iopub.status.idle": "2025-03-12T08:51:23.710781Z",
          "shell.execute_reply.started": "2025-03-12T08:51:23.691414Z",
          "shell.execute_reply": "2025-03-12T08:51:23.709609Z"
        },
        "id": "ZEMaY3JdpAG7"
      },
      "outputs": [],
      "execution_count": null
    },
    {
      "cell_type": "code",
      "source": [
        "# Визуализация всех метрик\n",
        "metrics = ['Accuracy', 'Precision', 'Recall', 'F1-Score']\n",
        "metric_visualiz_boosting(results_boosting_df, metrics)"
      ],
      "metadata": {
        "trusted": true,
        "execution": {
          "iopub.status.busy": "2025-03-12T08:51:23.711864Z",
          "iopub.execute_input": "2025-03-12T08:51:23.712246Z",
          "iopub.status.idle": "2025-03-12T08:51:25.035878Z",
          "shell.execute_reply.started": "2025-03-12T08:51:23.712207Z",
          "shell.execute_reply": "2025-03-12T08:51:25.034772Z"
        },
        "id": "bRM9WzWfpAG7"
      },
      "outputs": [],
      "execution_count": null
    },
    {
      "cell_type": "code",
      "source": [
        "def metric_visualiz_all_methods(results_bagging, results_random_forest, results_bayes, results_decision_tree, results_boosting, metrics):\n",
        "    warnings.filterwarnings(\"ignore\")\n",
        "\n",
        "    # Округление значений Test_Size\n",
        "    results_bagging['Test_Size'] = results_bagging['Test_Size'].round(3)\n",
        "    results_random_forest['Test_Size'] = results_random_forest['Test_Size'].round(3)\n",
        "    results_bayes['Test_Size'] = results_bayes['Test_Size'].round(3)\n",
        "    results_decision_tree['Test_Size'] = results_decision_tree['Test_Size'].round(3)\n",
        "    results_boosting['Test_Size'] = results_boosting['Test_Size'].round(3)\n",
        "\n",
        "    # Общий DataFrame для всех методов\n",
        "    results_bagging['Method'] = results_bagging['n_Estimators'].apply(lambda x: f'Bagging (n={x})')\n",
        "    results_random_forest['Method'] = results_random_forest['n_Estimators'].apply(lambda x: f'Random Forest (n={x})')\n",
        "    results_boosting['Method'] = results_boosting['n_Estimators'].apply(lambda x: f'Boosting (n={x})')\n",
        "    results_bayes['Method'] = 'Bayesian'\n",
        "    results_decision_tree['Method'] = results_decision_tree['Criterion'].apply(lambda x: f'Decision Tree ({x.capitalize()})')\n",
        "\n",
        "    combined_results = pd.concat([results_bagging, results_random_forest, results_boosting, results_bayes, results_decision_tree], ignore_index=True)\n",
        "\n",
        "    fig, axes = plt.subplots(2, 2, figsize=(15, 10))\n",
        "\n",
        "    # Разбивка по цветам\n",
        "    palette = {\n",
        "        **{f'Bagging (n={x})': sns.color_palette(\"Blues\")[i % 6] for i, x in enumerate(results_bagging['n_Estimators'].unique())},\n",
        "        **{f'Random Forest (n={x})': sns.color_palette(\"Reds\")[i % 6] for i, x in enumerate(results_random_forest['n_Estimators'].unique())},\n",
        "        **{f'Boosting (n={x})': sns.color_palette(\"Purples\")[i % 6] for i, x in enumerate(results_boosting['n_Estimators'].unique())},\n",
        "        'Bayesian': 'orange',\n",
        "        'Decision Tree (Gini)': 'limegreen',\n",
        "        'Decision Tree (Entropy)': 'darkgreen'\n",
        "    }\n",
        "\n",
        "    for ax, metric in zip(axes.flat, metrics):\n",
        "        sns.lineplot(x='Test_Size', y=metric, hue='Method', data=combined_results, marker='o', palette=palette, ax=ax)\n",
        "        ax.set_title(f'{metric}')\n",
        "        ax.set_xlabel('Размер тестовой выборки')\n",
        "        ax.set_ylabel(metric)\n",
        "        ax.legend(title='Method', bbox_to_anchor=(1.05, 1), loc='upper left')\n",
        "        ax.grid(True)\n",
        "\n",
        "    plt.tight_layout()\n",
        "    plt.show()"
      ],
      "metadata": {
        "trusted": true,
        "execution": {
          "iopub.status.busy": "2025-03-12T08:51:25.036868Z",
          "iopub.execute_input": "2025-03-12T08:51:25.037122Z",
          "iopub.status.idle": "2025-03-12T08:51:25.047353Z",
          "shell.execute_reply.started": "2025-03-12T08:51:25.0371Z",
          "shell.execute_reply": "2025-03-12T08:51:25.046422Z"
        },
        "id": "bKsGniyupAG7"
      },
      "outputs": [],
      "execution_count": null
    },
    {
      "cell_type": "code",
      "source": [
        "metrics = ['Accuracy', 'Precision', 'Recall', 'F1-Score']\n",
        "metric_visualiz_all_methods(results_bagging_df, results_random_forest_df, results_bayes_df, results_decision_tree_df, results_boosting_df, metrics)"
      ],
      "metadata": {
        "trusted": true,
        "execution": {
          "iopub.status.busy": "2025-03-12T08:51:25.048391Z",
          "iopub.execute_input": "2025-03-12T08:51:25.04873Z",
          "iopub.status.idle": "2025-03-12T08:51:27.436829Z",
          "shell.execute_reply.started": "2025-03-12T08:51:25.048703Z",
          "shell.execute_reply": "2025-03-12T08:51:27.435664Z"
        },
        "id": "OMgG3gZ4pAG8"
      },
      "outputs": [],
      "execution_count": null
    },
    {
      "cell_type": "markdown",
      "source": [
        "###  Выводы по бустингу\n",
        "1. При малой тестовой выборке наблюдается высокая точность. Точность снижается с увеличением размера тестовой выборки.\n",
        "2. Точность предсказаний: соизмерима с моделями деревьев решений и случайного леса.\n",
        "3. Recall: высокое значение на малом значении участников ансамбля (противоположно модели случайного леса).\n",
        "4. F1-Score: высокое значение на большом количестве участников ансамбля с увеличением размера тестовой выборки."
      ],
      "metadata": {
        "id": "xcjpe_XzpAG8"
      }
    },
    {
      "cell_type": "markdown",
      "source": [
        "## Общие выводы по задаче классификации"
      ],
      "metadata": {
        "id": "s-7tji6ipAG8"
      }
    },
    {
      "cell_type": "markdown",
      "source": [
        "1. Методы классификации Bagging, Random Forest, и Boosting показали высокие значения по всем метрикам. При малом наборе данных и высоком проценте тестовой выборке следует отдать предпочтение одному из этих методов.\n",
        "2. Увеличение количества участников ансамблей не всегда приводит к увеличению точности модели на большой тестовой выборке. При увеличении количества деревьев было достигнуто незначительное увеличение значений метрик.\n",
        "3. Random Forest менее устойчив к переобучению в сравнении с  Bagging."
      ],
      "metadata": {
        "id": "ZZ8SBndYpAG8"
      }
    }
  ]
}